{
 "cells": [
  {
   "cell_type": "code",
   "execution_count": null,
   "metadata": {},
   "outputs": [],
   "source": []
  },
  {
   "cell_type": "code",
   "execution_count": 2,
   "metadata": {},
   "outputs": [],
   "source": [
    "while True:\n",
    "    txt = input('enter your input: ')\n",
    "    if (txt.lower( ) == 'done') or (txt == 'd'):\n",
    "        break;\n",
    "        for i in reversed(range(len(txt))):\n",
    "            print(txt[i])\n",
    "\n",
    "\n"
   ]
  },
  {
   "cell_type": "markdown",
   "metadata": {},
   "source": []
  },
  {
   "cell_type": "code",
   "execution_count": 25,
   "metadata": {},
   "outputs": [
    {
     "ename": "ValueError",
     "evalue": "invalid literal for int() with base 10: ''",
     "output_type": "error",
     "traceback": [
      "\u001b[0;31m---------------------------------------------------------------------------\u001b[0m",
      "\u001b[0;31mValueError\u001b[0m                                Traceback (most recent call last)",
      "\u001b[1;32m/Users/hyewonlee/comsc 140/submissiontest-everythinghazel/chapter4assignment.ipynb Cell 4\u001b[0m in \u001b[0;36m<cell line: 2>\u001b[0;34m()\u001b[0m\n\u001b[1;32m      <a href='vscode-notebook-cell:/Users/hyewonlee/comsc%20140/submissiontest-everythinghazel/chapter4assignment.ipynb#W5sZmlsZQ%3D%3D?line=0'>1</a>\u001b[0m \u001b[39mwhile\u001b[39;00m \u001b[39mTrue\u001b[39;00m:\n\u001b[0;32m----> <a href='vscode-notebook-cell:/Users/hyewonlee/comsc%20140/submissiontest-everythinghazel/chapter4assignment.ipynb#W5sZmlsZQ%3D%3D?line=1'>2</a>\u001b[0m     num \u001b[39m=\u001b[39m \u001b[39mint\u001b[39;49m(\u001b[39minput\u001b[39;49m())\n\u001b[1;32m      <a href='vscode-notebook-cell:/Users/hyewonlee/comsc%20140/submissiontest-everythinghazel/chapter4assignment.ipynb#W5sZmlsZQ%3D%3D?line=3'>4</a>\u001b[0m \u001b[39mif\u001b[39;00m (\u001b[39m'\u001b[39m\u001b[39minvalid input condition\u001b[39m\u001b[39m'\u001b[39m):\n\u001b[1;32m      <a href='vscode-notebook-cell:/Users/hyewonlee/comsc%20140/submissiontest-everythinghazel/chapter4assignment.ipynb#W5sZmlsZQ%3D%3D?line=4'>5</a>\u001b[0m     \u001b[39mcontinue\u001b[39;00m\n",
      "\u001b[0;31mValueError\u001b[0m: invalid literal for int() with base 10: ''"
     ]
    }
   ],
   "source": [
    "while True:\n",
    "    num = int(input())\n",
    "\n",
    "if ('invalid input condition'):\n",
    "    continue\n",
    "\n",
    "while num > 1:\n",
    "    bit = num >1\n",
    "    bit = num % 2\n",
    "    print(bit)\n",
    "    num = num //2\n",
    "print(1)\n",
    "print(bit(x)[::-1])\n",
    " \n",
    "    \n"
   ]
  },
  {
   "cell_type": "code",
   "execution_count": 14,
   "metadata": {},
   "outputs": [
    {
     "name": "stdout",
     "output_type": "stream",
     "text": [
      "10\n"
     ]
    }
   ],
   "source": [
    "numbers = [0] * 5\n",
    "for i in range(5):\n",
    "    numbers[i] = int(input())\n",
    "\n",
    "for i in range(5):\n",
    "    if i == 0 or min > numbers[i]:\n",
    "        min = numbers[i]\n",
    "\n",
    "print(min)"
   ]
  }
 ],
 "metadata": {
  "kernelspec": {
   "display_name": "Python 3.9.12 ('base')",
   "language": "python",
   "name": "python3"
  },
  "language_info": {
   "codemirror_mode": {
    "name": "ipython",
    "version": 3
   },
   "file_extension": ".py",
   "mimetype": "text/x-python",
   "name": "python",
   "nbconvert_exporter": "python",
   "pygments_lexer": "ipython3",
   "version": "3.9.12"
  },
  "orig_nbformat": 4,
  "vscode": {
   "interpreter": {
    "hash": "d41a62ed46b59bf1653ba8817f57d451347c5261dc0633439b1899d89b86d01f"
   }
  }
 },
 "nbformat": 4,
 "nbformat_minor": 2
}
