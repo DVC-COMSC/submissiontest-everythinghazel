{
 "cells": [
  {
   "cell_type": "code",
   "execution_count": 2,
   "metadata": {},
   "outputs": [
    {
     "name": "stdout",
     "output_type": "stream",
     "text": [
      "68\n",
      "90\n",
      "58\n",
      "50\n",
      "56\n"
     ]
    }
   ],
   "source": [
    "for i in range(0,10):\n",
    "    num= int(input('Enter input here: '))\n",
    "    if num % 2 == 0:\n",
    "        print(num)\n",
    "\n",
    "\n"
   ]
  },
  {
   "cell_type": "code",
   "execution_count": 8,
   "metadata": {},
   "outputs": [
    {
     "ename": "TypeError",
     "evalue": "can only concatenate str (not \"int\") to str",
     "output_type": "error",
     "traceback": [
      "\u001b[0;31m---------------------------------------------------------------------------\u001b[0m",
      "\u001b[0;31mTypeError\u001b[0m                                 Traceback (most recent call last)",
      "\u001b[1;32m/Users/hyewonlee/comsc 140/submissiontest-everythinghazel/chapter4quiz.ipynb Cell 2\u001b[0m in \u001b[0;36m<cell line: 2>\u001b[0;34m()\u001b[0m\n\u001b[1;32m      <a href='vscode-notebook-cell:/Users/hyewonlee/comsc%20140/submissiontest-everythinghazel/chapter4quiz.ipynb#W3sZmlsZQ%3D%3D?line=0'>1</a>\u001b[0m \u001b[39mwhile\u001b[39;00m \u001b[39mTrue\u001b[39;00m:\n\u001b[1;32m      <a href='vscode-notebook-cell:/Users/hyewonlee/comsc%20140/submissiontest-everythinghazel/chapter4quiz.ipynb#W3sZmlsZQ%3D%3D?line=1'>2</a>\u001b[0m     value\u001b[39m=\u001b[39m \u001b[39minput\u001b[39m(\u001b[39m'\u001b[39m\u001b[39menter input: \u001b[39m\u001b[39m'\u001b[39m)\n\u001b[0;32m----> <a href='vscode-notebook-cell:/Users/hyewonlee/comsc%20140/submissiontest-everythinghazel/chapter4quiz.ipynb#W3sZmlsZQ%3D%3D?line=2'>3</a>\u001b[0m     value\u001b[39m+\u001b[39m\u001b[39m=\u001b[39m\u001b[39m1\u001b[39m\n",
      "\u001b[0;31mTypeError\u001b[0m: can only concatenate str (not \"int\") to str"
     ]
    }
   ],
   "source": [
    "while True:\n",
    "    value= input('enter input: ')\n",
    "    value+=1"
   ]
  },
  {
   "cell_type": "code",
   "execution_count": null,
   "metadata": {},
   "outputs": [],
   "source": [
    "\n",
    "mylist= input('enter input: ')\n",
    "\n",
    "shortest= mylist[0]\n",
    "longest= mylist[0]\n",
    "\n",
    "for i in mylist[1:]:\n",
    "    if len(shortest) > = len(i):\n",
    "        shortest = i\n",
    "    if len(longest) < = len(i):\n",
    "        longest = i\n",
    "\n",
    "print ('longest')\n",
    "print('shportest')\n",
    "\n",
    "\n",
    "\n"
   ]
  }
 ],
 "metadata": {
  "kernelspec": {
   "display_name": "Python 3.9.12 ('base')",
   "language": "python",
   "name": "python3"
  },
  "language_info": {
   "codemirror_mode": {
    "name": "ipython",
    "version": 3
   },
   "file_extension": ".py",
   "mimetype": "text/x-python",
   "name": "python",
   "nbconvert_exporter": "python",
   "pygments_lexer": "ipython3",
   "version": "3.9.12"
  },
  "orig_nbformat": 4,
  "vscode": {
   "interpreter": {
    "hash": "d41a62ed46b59bf1653ba8817f57d451347c5261dc0633439b1899d89b86d01f"
   }
  }
 },
 "nbformat": 4,
 "nbformat_minor": 2
}
